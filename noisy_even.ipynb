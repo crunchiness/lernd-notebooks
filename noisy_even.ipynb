{
 "cells": [
  {
   "cell_type": "markdown",
   "metadata": {
    "collapsed": true,
    "pycharm": {
     "name": "#%% md\n"
    }
   },
   "source": [
    "In the `intro_predecessor.ipynb` notebook, the $predecessor$ problem is quite simple and does not showcase the\n",
    "capabilities of **Lernd**.\n",
    "\n",
    "For a more difficult problem, let's solve $even$ and give it a mislabeled example. **Lernd** should learn the relation\n",
    "given just a successor predicate $succ$ and examples, one of which will be incorrectly labelled.\n",
    "\n",
    "Another way in which it is not a trivial problem, is that **Lernd** has to invent an auxiliary predicate to solve it,\n",
    "and furthermore, there's recursion in the solution. An example solution could be:\n",
    "\n",
    "$target(A) \\leftarrow zero(A)$\n",
    "$target(A) \\leftarrow target(B),pred(B,A)$\n",
    "$pred(A,B) \\leftarrow succ(A,C),succ(C,B)$\n",
    "\n",
    "Here $pred$ is the auxiliary predicate, true if $A+2=B$.\n",
    "\n",
    "\n",
    "Let's define the problem:"
   ]
  },
  {
   "cell_type": "code",
   "execution_count": 7,
   "metadata": {
    "pycharm": {
     "name": "#%%\n"
    }
   },
   "outputs": [],
   "source": [
    "import os\n",
    "import tensorflow as tf\n",
    "from lernd.classes import LanguageModel, ProgramTemplate, ILP\n",
    "from lernd.lernd_loss import Lernd\n",
    "from lernd.lernd_types import Constant, RuleTemplate\n",
    "from lernd.main import generate_weight_matrices, extract_definitions, print_valuations\n",
    "from lernd.util import str2pred, str2ground_atom, ground_atom2str, get_ground_atom_probs\n",
    "\n",
    "os.environ['CUDA_VISIBLE_DEVICES'] = ''\n",
    "\n",
    "target_pred = str2pred('even/1')\n",
    "zero_pred = str2pred('zero/1')\n",
    "succ_pred = str2pred('succ/2')\n",
    "preds_ext = [zero_pred, succ_pred]\n",
    "constants = [Constant(str(i)) for i in range(11)]\n",
    "language_model = LanguageModel(target_pred, preds_ext, constants)\n",
    "\n",
    "# Program template\n",
    "aux_pred = str2pred('pred/2')\n",
    "aux_preds = [aux_pred]\n",
    "rules = {\n",
    "    target_pred: (RuleTemplate(0, False), RuleTemplate(1, True)),\n",
    "    aux_pred: (RuleTemplate(1, False), None)\n",
    "}\n",
    "forward_chaining_steps = 6\n",
    "program_template = ProgramTemplate(aux_preds, rules, forward_chaining_steps)\n",
    "\n",
    "# ILP problem\n",
    "ground_zero = str2ground_atom('zero(0)')\n",
    "background = [ground_zero] + [str2ground_atom(f'succ({i},{i + 1})') for i in range(10)]\n",
    "positive = [str2ground_atom(f'even({i})') for i in range(0, 11, 2)]\n",
    "negative = [str2ground_atom(f'even({i})') for i in range(1, 10, 2)]"
   ]
  },
  {
   "cell_type": "markdown",
   "metadata": {
    "pycharm": {
     "name": "#%% md\n"
    }
   },
   "source": [
    "Let's see the positive and negative examples:"
   ]
  },
  {
   "cell_type": "code",
   "execution_count": 8,
   "outputs": [
    {
     "name": "stdout",
     "output_type": "stream",
     "text": [
      "Positive examples:\n",
      "even(0), even(2), even(4), even(6), even(8), even(10)\n",
      "\n",
      "Negative examples:\n",
      "even(1), even(3), even(5), even(7), even(9)\n"
     ]
    }
   ],
   "source": [
    "print('Positive examples:')\n",
    "print(', '.join(map(ground_atom2str, positive)))\n",
    "\n",
    "print('\\nNegative examples:')\n",
    "print(', '.join(map(ground_atom2str, negative)))"
   ],
   "metadata": {
    "collapsed": false,
    "pycharm": {
     "name": "#%%\n"
    }
   }
  },
  {
   "cell_type": "markdown",
   "source": [
    "Let's put one of the examples in the wrong category:"
   ],
   "metadata": {
    "collapsed": false,
    "pycharm": {
     "name": "#%% md\n"
    }
   }
  },
  {
   "cell_type": "code",
   "execution_count": 9,
   "outputs": [
    {
     "name": "stdout",
     "output_type": "stream",
     "text": [
      "Positive examples:\n",
      "even(0), even(2), even(4), even(6), even(8), even(10), even(9)\n",
      "\n",
      "Negative examples:\n",
      "even(1), even(3), even(5), even(7)\n"
     ]
    }
   ],
   "source": [
    "positive.append(negative.pop())\n",
    "\n",
    "print('Positive examples:')\n",
    "print(', '.join(map(ground_atom2str, positive)))\n",
    "\n",
    "print('\\nNegative examples:')\n",
    "print(', '.join(map(ground_atom2str, negative)))"
   ],
   "metadata": {
    "collapsed": false,
    "pycharm": {
     "name": "#%%\n"
    }
   }
  },
  {
   "cell_type": "markdown",
   "source": [
    "Standard ILP frameworks would not find the solution given such imperfect examples. One incorrect fact is enough to infer\n",
    "anything. **Lernd** as a $\\partial$ILP framework can have some success as it is minimizing loss, rather than satisfying\n",
    "strict requirements.\n",
    "\n",
    "Disclaimer: it does not succeed 100% of the time. According to the original paper, however, the percentage, where $even$\n",
    "achieves less than 1e-4 mean squared test error *without noise*, is 48.5 %. Then again, they don't explain how exactly\n",
    "they calculate MSE.\n",
    "\n",
    "We can now finish defining the problem and run **Lernd**:"
   ],
   "metadata": {
    "collapsed": false,
    "pycharm": {
     "name": "#%% md\n"
    }
   }
  },
  {
   "cell_type": "code",
   "execution_count": 10,
   "outputs": [
    {
     "name": "stdout",
     "output_type": "stream",
     "text": [
      "Generating clauses...\n",
      "Generating ground atoms...\n",
      "Making big lambda...\n",
      "Generating initial valuation...\n",
      "Initializing Inferrer\n",
      "Inferrer initializing xc tensors...\n",
      "Step 10 loss: 0.7429359555244446, mini_batch loss: 0.4950571060180664\n",
      "\n",
      "Step 20 loss: 0.7290857434272766, mini_batch loss: 0.8217357993125916\n",
      "\n",
      "Step 30 loss: 0.6139991283416748, mini_batch loss: 0.9958378672599792\n",
      "\n",
      "Step 40 loss: 0.6211042404174805, mini_batch loss: 0.3267489969730377\n",
      "\n",
      "Step 50 loss: 0.5755727291107178, mini_batch loss: 0.6369569897651672\n",
      "\n",
      "Step 60 loss: 0.6292808055877686, mini_batch loss: 0.6171702146530151\n",
      "\n",
      "Step 70 loss: 1.032448410987854, mini_batch loss: 1.2014769315719604\n",
      "\n",
      "Step 80 loss: 0.5940074324607849, mini_batch loss: 0.3866165578365326\n",
      "\n",
      "Step 90 loss: 0.5940332412719727, mini_batch loss: 0.6373648047447205\n",
      "\n",
      "Step 100 loss: 0.6108120083808899, mini_batch loss: 0.730179488658905\n",
      "\n",
      "Step 110 loss: 0.5538926720619202, mini_batch loss: 0.4050995409488678\n",
      "\n",
      "Step 120 loss: 0.5902472138404846, mini_batch loss: 1.1701081991195679\n",
      "\n",
      "Step 130 loss: 0.914607584476471, mini_batch loss: 0.17494310438632965\n",
      "\n",
      "Step 140 loss: 1.0140976905822754, mini_batch loss: 0.6499713063240051\n",
      "\n",
      "Step 150 loss: 0.5277984142303467, mini_batch loss: 0.2846743166446686\n",
      "\n",
      "Step 160 loss: 0.7474682331085205, mini_batch loss: 0.9121038317680359\n",
      "\n",
      "Step 170 loss: 0.5338637828826904, mini_batch loss: 0.3013405203819275\n",
      "\n",
      "Step 180 loss: 0.5747073888778687, mini_batch loss: 0.1901930421590805\n",
      "\n",
      "Step 190 loss: 0.6047266125679016, mini_batch loss: 0.7184292674064636\n",
      "\n",
      "Step 200 loss: 0.6214997172355652, mini_batch loss: 0.8485870957374573\n",
      "\n",
      "Step 210 loss: 0.7316457629203796, mini_batch loss: 0.6370016932487488\n",
      "\n",
      "Step 220 loss: 0.6430695056915283, mini_batch loss: 0.7802422642707825\n",
      "\n",
      "Step 230 loss: 1.6517651081085205, mini_batch loss: 1.655791163444519\n",
      "\n",
      "Step 240 loss: 0.5317124724388123, mini_batch loss: 0.2563607692718506\n",
      "\n",
      "Step 250 loss: 0.5473671555519104, mini_batch loss: 0.41176262497901917\n",
      "\n",
      "Step 260 loss: 0.8089744448661804, mini_batch loss: 0.9524568915367126\n",
      "\n",
      "Step 270 loss: 0.5699142813682556, mini_batch loss: 0.24121272563934326\n",
      "\n",
      "Step 280 loss: 0.5319347977638245, mini_batch loss: 0.6385536789894104\n",
      "\n",
      "Step 290 loss: 0.5433204174041748, mini_batch loss: 0.4961332380771637\n",
      "\n",
      "Step 300 loss: 1.7511426210403442, mini_batch loss: 2.1385467052459717\n",
      "\n",
      "Step 310 loss: 0.5358442068099976, mini_batch loss: 0.472413033246994\n",
      "\n",
      "Step 320 loss: 0.5429494380950928, mini_batch loss: 0.3958078622817993\n",
      "\n",
      "Step 330 loss: 0.5221224427223206, mini_batch loss: 0.6365326046943665\n",
      "\n",
      "Step 340 loss: 0.5220691561698914, mini_batch loss: 0.2693001925945282\n",
      "\n",
      "Step 350 loss: 0.5230315923690796, mini_batch loss: 0.6368998885154724\n",
      "\n",
      "Step 360 loss: 0.7317731976509094, mini_batch loss: 0.8622847199440002\n",
      "\n",
      "Step 370 loss: 0.5639491677284241, mini_batch loss: 0.6847535967826843\n",
      "\n",
      "Step 380 loss: 0.6330309510231018, mini_batch loss: 0.7445085644721985\n",
      "\n",
      "Step 390 loss: 0.5231948494911194, mini_batch loss: 0.39443910121917725\n",
      "\n",
      "Step 400 loss: 0.5533705949783325, mini_batch loss: 0.4246118366718292\n",
      "\n",
      "Step 410 loss: 0.5369201302528381, mini_batch loss: 0.5688061118125916\n",
      "\n",
      "Step 420 loss: 0.5458323955535889, mini_batch loss: 0.1859424114227295\n",
      "\n",
      "Step 430 loss: 0.6217536330223083, mini_batch loss: 0.15718550980091095\n",
      "\n",
      "Step 440 loss: 0.6134623885154724, mini_batch loss: 0.8424685597419739\n",
      "\n",
      "Step 450 loss: 0.5291263461112976, mini_batch loss: 0.35110124945640564\n",
      "\n",
      "Step 460 loss: 0.5227417349815369, mini_batch loss: 0.8861610293388367\n",
      "\n",
      "Step 470 loss: 0.585829496383667, mini_batch loss: 0.6443405747413635\n",
      "\n",
      "Step 480 loss: 0.878670871257782, mini_batch loss: 1.0597343444824219\n",
      "\n",
      "Step 490 loss: 0.8283659219741821, mini_batch loss: 0.554929256439209\n",
      "\n",
      "Step 500 loss: 0.5587220788002014, mini_batch loss: 0.2450091391801834\n",
      "\n"
     ]
    }
   ],
   "source": [
    "ilp_problem = ILP(language_model, background, positive, negative)\n",
    "lernd_model = Lernd(ilp_problem, program_template, mini_batch=0.3)  # use 30% of examples in every training step\n",
    "weights = generate_weight_matrices(lernd_model.clauses)\n",
    "\n",
    "losses = []\n",
    "optimizer = tf.keras.optimizers.RMSprop(learning_rate=0.5)\n",
    "\n",
    "im = None\n",
    "for i in range(1, 501):\n",
    "    loss_grad, loss, valuation, full_loss = lernd_model.grad(weights)\n",
    "    optimizer.apply_gradients(zip(loss_grad, list(weights.values())))\n",
    "    loss_float = float(full_loss.numpy())\n",
    "    mb_loss_float = float(loss.numpy())\n",
    "    losses.append(loss_float)\n",
    "    if i % 10 == 0:\n",
    "        print(f'Step {i} loss: {loss_float}, mini_batch loss: {mb_loss_float}\\n')"
   ],
   "metadata": {
    "collapsed": false,
    "pycharm": {
     "name": "#%%\n"
    }
   }
  },
  {
   "cell_type": "markdown",
   "source": [
    "Let's plot the loss to see how it went."
   ],
   "metadata": {
    "collapsed": false,
    "pycharm": {
     "name": "#%% md\n"
    }
   }
  },
  {
   "cell_type": "code",
   "execution_count": 11,
   "outputs": [
    {
     "data": {
      "text/plain": "Text(0, 0.5, 'Value')"
     },
     "execution_count": 11,
     "metadata": {},
     "output_type": "execute_result"
    },
    {
     "data": {
      "text/plain": "<Figure size 432x288 with 1 Axes>",
      "image/png": "[encoded data removed]"
     },
     "metadata": {
      "needs_background": "light"
     },
     "output_type": "display_data"
    }
   ],
   "source": [
    "from matplotlib import pyplot as plt\n",
    "\n",
    "fig, ax = plt.subplots()\n",
    "ax.plot(losses)\n",
    "ax.set_title('Loss')\n",
    "ax.set_xlabel('Step')\n",
    "ax.set_ylabel('Value')"
   ],
   "metadata": {
    "collapsed": false,
    "pycharm": {
     "name": "#%%\n"
    }
   }
  },
  {
   "cell_type": "markdown",
   "source": [
    "Finally let's extract the results:"
   ],
   "metadata": {
    "collapsed": false,
    "pycharm": {
     "name": "#%% md\n"
    }
   }
  },
  {
   "cell_type": "code",
   "execution_count": 12,
   "outputs": [
    {
     "name": "stdout",
     "output_type": "stream",
     "text": [
      "clause_prob_threshold: 0.1\n",
      "\n",
      "Clause learnt:\n",
      "With probability (confidence): 0.3529891073703766\n",
      "pred(A,B)<-succ(B,A), succ(C,B)\n",
      "\n",
      "clause_prob_threshold: 0.1\n",
      "\n",
      "Clause learnt:\n",
      "With probability (confidence): 0.2738669514656067\n",
      "even(A)<-zero(A), zero(A)\n",
      "even(A)<-pred(B,A), succ(B,A)\n",
      "With probability (confidence): 0.42311692237854004\n",
      "even(A)<-zero(A), zero(A)\n",
      "even(A)<-pred(B,B), succ(B,A)\n",
      "\n",
      "Valuations of ground atoms (only those >0.01 for readability):\n",
      "zero(0) - 1.0\n",
      "succ(0,1) - 1.0\n",
      "succ(1,2) - 1.0\n",
      "succ(2,3) - 1.0\n",
      "succ(3,4) - 1.0\n",
      "succ(4,5) - 1.0\n",
      "succ(5,6) - 1.0\n",
      "succ(6,7) - 1.0\n",
      "succ(7,8) - 1.0\n",
      "succ(8,9) - 1.0\n",
      "succ(9,10) - 1.0\n",
      "pred(1,0) - 0.13843530416488647\n",
      "pred(1,1) - 0.2076275646686554\n",
      "pred(1,2) - 0.21504029631614685\n",
      "pred(2,1) - 0.951917827129364\n",
      "pred(2,2) - 0.2076275646686554\n",
      "pred(2,3) - 0.21504029631614685\n",
      "pred(3,2) - 0.951917827129364\n",
      "pred(3,3) - 0.2076275646686554\n",
      "pred(3,4) - 0.21504029631614685\n",
      "pred(4,3) - 0.951917827129364\n",
      "pred(4,4) - 0.2076275646686554\n",
      "pred(4,5) - 0.21504029631614685\n",
      "pred(5,4) - 0.951917827129364\n",
      "pred(5,5) - 0.2076275646686554\n",
      "pred(5,6) - 0.21504029631614685\n",
      "pred(6,5) - 0.951917827129364\n",
      "pred(6,6) - 0.2076275646686554\n",
      "pred(6,7) - 0.21504029631614685\n",
      "pred(7,6) - 0.951917827129364\n",
      "pred(7,7) - 0.2076275646686554\n",
      "pred(7,8) - 0.21504029631614685\n",
      "pred(8,7) - 0.951917827129364\n",
      "pred(8,8) - 0.2076275646686554\n",
      "pred(8,9) - 0.21504029631614685\n",
      "pred(9,8) - 0.951917827129364\n",
      "pred(9,9) - 0.2076275646686554\n",
      "pred(9,10) - 0.21504026651382446\n",
      "pred(10,9) - 0.9519178867340088\n",
      "pred(10,10) - 0.20762750506401062\n",
      "even(0) - 0.9998787641525269\n",
      "even(2) - 0.5173820853233337\n",
      "even(3) - 0.517379641532898\n",
      "even(4) - 0.517379641532898\n",
      "even(5) - 0.517379641532898\n",
      "even(6) - 0.517379641532898\n",
      "even(7) - 0.517379641532898\n",
      "even(8) - 0.517379641532898\n",
      "even(9) - 0.517379641532898\n",
      "even(10) - 0.5173795819282532\n"
     ]
    }
   ],
   "source": [
    "extract_definitions(lernd_model.clauses, weights)\n",
    "ground_atom_probs = get_ground_atom_probs(valuation, lernd_model.ground_atoms)\n",
    "print_valuations(ground_atom_probs)"
   ],
   "metadata": {
    "collapsed": false,
    "pycharm": {
     "name": "#%%\n"
    }
   }
  },
  {
   "cell_type": "markdown",
   "source": [
    "Obviously, this is a simple problem with no noise in the data, so the next notebook will demonstrate how lernd solves a\n",
    "more difficult problem."
   ],
   "metadata": {
    "collapsed": false,
    "pycharm": {
     "name": "#%% md\n"
    }
   }
  }
 ],
 "metadata": {
  "kernelspec": {
   "display_name": "Python 3",
   "language": "python",
   "name": "python3"
  },
  "language_info": {
   "codemirror_mode": {
    "name": "ipython",
    "version": 3
   },
   "file_extension": ".py",
   "mimetype": "text/x-python",
   "name": "python",
   "nbconvert_exporter": "python",
   "pygments_lexer": "ipython3",
   "version": "3.7.7"
  }
 },
 "nbformat": 4,
 "nbformat_minor": 1
}