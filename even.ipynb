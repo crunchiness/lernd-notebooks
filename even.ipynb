{
 "cells": [
  {
   "cell_type": "markdown",
   "metadata": {
    "collapsed": true,
    "pycharm": {
     "name": "#%% md\n"
    }
   },
   "source": [
    "**Lernd** is my implementation of $\\partial$ILP framework. The original $\\partial$ILP paper $-$\n",
    "[Learning Explanatory Rules from Noisy Data](https://arxiv.org/abs/1711.04574).\n",
    "\n",
    "In the `intro_predecessor.ipynb` notebook, the $predecessor$ problem is quite simple and does not showcase the\n",
    "capabilities of **Lernd**.\n",
    "\n",
    "For a more difficult problem, let's solve $even$ (this time without noise). **Lernd** should come up with the definition of predicate $even$ given\n",
    "just a successor predicate $succ$ and a few examples.\n",
    "\n",
    "This is not a trivial problem, because an auxiliary predicate has to be invented and the solution has recursion in it.\n",
    "An example solution could be:\n",
    "\n",
    "$target(A) \\leftarrow zero(A)$\n",
    "\n",
    "$target(A) \\leftarrow target(B),pred(B,A)$\n",
    "\n",
    "$pred(A,B) \\leftarrow succ(A,C),succ(C,B)$\n",
    "\n",
    "Here $pred$ is the auxiliary predicate, true if $A+2=B$. There may be variations.\n",
    "\n",
    "\n",
    "Let's define the problem:"
   ]
  },
  {
   "cell_type": "code",
   "execution_count": 1,
   "metadata": {
    "pycharm": {
     "name": "#%%\n"
    }
   },
   "outputs": [],
   "source": [
    "import os\n",
    "\n",
    "import numpy as np\n",
    "import tensorflow as tf\n",
    "from IPython.core.display import clear_output\n",
    "from matplotlib import pyplot as plt\n",
    "\n",
    "from lernd.classes import ILP, LanguageModel, ProgramTemplate\n",
    "from lernd.lernd_loss import Lernd\n",
    "from lernd.lernd_types import Constant, RuleTemplate\n",
    "from lernd.main import generate_weight_matrices, extract_definitions, print_valuations\n",
    "from lernd.util import get_ground_atom_probs, ground_atom2str, softmax, str2ground_atom, str2pred\n",
    "\n",
    "os.environ['CUDA_VISIBLE_DEVICES'] = ''\n",
    "\n",
    "target_pred = str2pred('even/1')\n",
    "zero_pred = str2pred('zero/1')\n",
    "succ_pred = str2pred('succ/2')\n",
    "preds_ext = [zero_pred, succ_pred]\n",
    "constants = [Constant(str(i)) for i in range(11)]\n",
    "language_model = LanguageModel(target_pred, preds_ext, constants)\n",
    "\n",
    "# Program template\n",
    "aux_pred = str2pred('pred/2')\n",
    "aux_preds = [aux_pred]\n",
    "rules = {\n",
    "    target_pred: (RuleTemplate(0, False), RuleTemplate(1, True)),\n",
    "    aux_pred: (RuleTemplate(1, False), None)\n",
    "}\n",
    "forward_chaining_steps = 6\n",
    "program_template = ProgramTemplate(aux_preds, rules, forward_chaining_steps)\n",
    "\n",
    "# ILP problem\n",
    "ground_zero = str2ground_atom('zero(0)')\n",
    "background = [ground_zero] + [str2ground_atom(f'succ({i},{i + 1})') for i in range(10)]\n",
    "positive = [str2ground_atom(f'even({i})') for i in range(0, 11, 2)]\n",
    "negative = [str2ground_atom(f'even({i})') for i in range(1, 10, 2)]\n",
    "ilp_problem = ILP(language_model, background, positive, negative)"
   ]
  },
  {
   "cell_type": "markdown",
   "metadata": {
    "pycharm": {
     "name": "#%% md\n"
    }
   },
   "source": [
    "Let's see the background knowledge and examples:"
   ]
  },
  {
   "cell_type": "code",
   "execution_count": 2,
   "metadata": {
    "pycharm": {
     "name": "#%%\n"
    }
   },
   "outputs": [
    {
     "name": "stdout",
     "output_type": "stream",
     "text": [
      "Background axioms:\n",
      "zero(0), succ(0,1), succ(1,2), succ(2,3), succ(3,4), succ(4,5), succ(5,6), succ(6,7), succ(7,8), succ(8,9), succ(9,10)\n",
      "\n",
      "Positive examples:\n",
      "even(0), even(2), even(4), even(6), even(8), even(10)\n",
      "\n",
      "Negative examples:\n",
      "even(1), even(3), even(5), even(7), even(9)\n"
     ]
    }
   ],
   "source": [
    "print('Background axioms:')\n",
    "print(', '.join(map(ground_atom2str, background)))\n",
    "\n",
    "print('\\nPositive examples:')\n",
    "print(', '.join(map(ground_atom2str, positive)))\n",
    "\n",
    "print('\\nNegative examples:')\n",
    "print(', '.join(map(ground_atom2str, negative)))"
   ]
  },
  {
   "cell_type": "markdown",
   "metadata": {
    "pycharm": {
     "name": "#%% md\n"
    }
   },
   "source": [
    "We can now run **Lernd**.\n",
    "\n",
    "Note that in this problem mini batching is used (taking random 30% of examples at every training step). This has a\n",
    "dramatic effect on performance as it helps to avoid local minima."
   ]
  },
  {
   "cell_type": "code",
   "execution_count": 3,
   "metadata": {
    "pycharm": {
     "name": "#%%\n"
    }
   },
   "outputs": [
    {
     "name": "stdout",
     "output_type": "stream",
     "text": [
      "Step 500 loss: -0.0, mini_batch loss: -0.0\n",
      "\n"
     ]
    },
    {
     "data": {
      "image/png": "[encoded data removed]",
      "text/plain": [
       "<Figure size 432x288 with 3 Axes>"
      ]
     },
     "metadata": {
      "needs_background": "light"
     },
     "output_type": "display_data"
    }
   ],
   "source": [
    "lernd_model = Lernd(ilp_problem, program_template, mini_batch=0.3)\n",
    "weights = generate_weight_matrices(lernd_model.clauses)\n",
    "\n",
    "losses = []\n",
    "optimizer = tf.keras.optimizers.RMSprop(learning_rate=0.5)\n",
    "\n",
    "for i in range(1, 501):\n",
    "    loss_grad, loss, valuation, full_loss = lernd_model.grad(weights)\n",
    "    optimizer.apply_gradients(zip(loss_grad, list(weights.values())))\n",
    "    loss_float = float(full_loss.numpy())\n",
    "    mb_loss_float = float(loss.numpy())\n",
    "    losses.append(loss_float)\n",
    "    if i % 10 == 0:\n",
    "        print(f'Step {i} loss: {loss_float}, mini_batch loss: {mb_loss_float}\\n')\n",
    "        fig, axs = plt.subplots(ncols=3, gridspec_kw={'width_ratios': [1, 3, 0.2]})\n",
    "        fig.subplots_adjust(top=0.8, wspace=0.6)\n",
    "        fig.suptitle(f'Softmaxed weight matrices at step {i}', fontsize=16)\n",
    "        im0 = axs[0].pcolormesh(softmax(weights[aux_pred]).numpy(), cmap='viridis', vmin=0, vmax=1)\n",
    "        axs[0].set_title('Auxiliary predicate')\n",
    "        im1 = axs[1].pcolormesh(np.transpose(softmax(weights[target_pred]).numpy()), cmap='viridis', vmin=0, vmax=1)\n",
    "        axs[1].set_title('Target predicate')\n",
    "        fig.colorbar(im0, cax=axs[2])\n",
    "        plt.show()\n",
    "        if i != 500:\n",
    "            clear_output(wait=True)"
   ]
  },
  {
   "cell_type": "markdown",
   "metadata": {
    "pycharm": {
     "name": "#%% md\n"
    }
   },
   "source": [
    "Let's plot the loss to see how it went."
   ]
  },
  {
   "cell_type": "code",
   "execution_count": 4,
   "metadata": {
    "pycharm": {
     "name": "#%%\n"
    }
   },
   "outputs": [
    {
     "data": {
      "text/plain": [
       "Text(0, 0.5, 'Value')"
      ]
     },
     "execution_count": 4,
     "metadata": {},
     "output_type": "execute_result"
    },
    {
     "data": {
      "image/png": "[encoded data removed]",
      "text/plain": [
       "<Figure size 432x288 with 1 Axes>"
      ]
     },
     "metadata": {
      "needs_background": "light"
     },
     "output_type": "display_data"
    }
   ],
   "source": [
    "fig, ax = plt.subplots()\n",
    "ax.plot(losses)\n",
    "ax.set_title('Loss')\n",
    "ax.set_xlabel('Step')\n",
    "ax.set_ylabel('Value')"
   ]
  },
  {
   "cell_type": "markdown",
   "metadata": {
    "pycharm": {
     "name": "#%% md\n"
    }
   },
   "source": [
    "Finally let's extract the results:"
   ]
  },
  {
   "cell_type": "code",
   "execution_count": 5,
   "metadata": {
    "pycharm": {
     "name": "#%%\n"
    }
   },
   "outputs": [
    {
     "name": "stdout",
     "output_type": "stream",
     "text": [
      "clause_prob_threshold: 0.1\n",
      "\n",
      "Clause learnt:\n",
      "With probability (confidence): 1.0\n",
      "pred(A,B)<-succ(A,C), succ(C,B)\n",
      "\n",
      "clause_prob_threshold: 0.1\n",
      "\n",
      "Clause learnt:\n",
      "With probability (confidence): 1.0\n",
      "even(A)<-zero(A), zero(A)\n",
      "even(A)<-even(B), pred(B,A)\n",
      "\n",
      "Valuations of ground atoms (only those >0.01 for readability):\n",
      "zero(0) - 1.0\n",
      "succ(0,1) - 1.0\n",
      "succ(1,2) - 1.0\n",
      "succ(2,3) - 1.0\n",
      "succ(3,4) - 1.0\n",
      "succ(4,5) - 1.0\n",
      "succ(5,6) - 1.0\n",
      "succ(6,7) - 1.0\n",
      "succ(7,8) - 1.0\n",
      "succ(8,9) - 1.0\n",
      "succ(9,10) - 1.0\n",
      "pred(0,2) - 1.0\n",
      "pred(1,3) - 1.0\n",
      "pred(2,4) - 1.0\n",
      "pred(3,5) - 1.0\n",
      "pred(4,6) - 1.0\n",
      "pred(5,7) - 1.0\n",
      "pred(6,8) - 1.0\n",
      "pred(7,9) - 1.0\n",
      "pred(8,10) - 1.0\n",
      "even(0) - 1.0\n",
      "even(2) - 1.0\n",
      "even(4) - 1.0\n",
      "even(6) - 1.0\n",
      "even(8) - 1.0\n",
      "even(10) - 1.0\n"
     ]
    }
   ],
   "source": [
    "extract_definitions(lernd_model.clauses, weights)\n",
    "ground_atom_probs = get_ground_atom_probs(valuation, lernd_model.ground_atoms)\n",
    "print_valuations(ground_atom_probs)"
   ]
  },
  {
   "cell_type": "markdown",
   "metadata": {
    "pycharm": {
     "name": "#%% md\n"
    }
   },
   "source": [
    "I found that **Lernd** is able to solve this problem in 500 training steps 78% of the time (i. e. loss lower than 1e-4 was\n",
    "reached in 78 tries, out of a 100, and in 74 cases loss was exactly 0). Other times system gets stuck in a local\n",
    "minimum, weights oscillating. This could potentially be solved by splitting background axioms and examples into possible\n",
    "worlds, as suggested in the original paper.\n",
    "\n",
    "In the next notebook we'll run **Lernd** on data with mislabelled examples."
   ]
  }
 ],
 "metadata": {
  "kernelspec": {
   "display_name": "Python 3",
   "language": "python",
   "name": "python3"
  },
  "language_info": {
   "codemirror_mode": {
    "name": "ipython",
    "version": 3
   },
   "file_extension": ".py",
   "mimetype": "text/x-python",
   "name": "python",
   "nbconvert_exporter": "python",
   "pygments_lexer": "ipython3",
   "version": "3.7.7"
  }
 },
 "nbformat": 4,
 "nbformat_minor": 1
}