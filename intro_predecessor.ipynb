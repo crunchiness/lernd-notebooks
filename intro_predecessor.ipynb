{
 "cells": [
  {
   "cell_type": "markdown",
   "metadata": {
    "collapsed": true,
    "pycharm": {
     "name": "#%% md\n"
    }
   },
   "source": [
    "This notebook explains how to use **Lernd** - my implementation of $\\partial$ILP framework.\n",
    "\n",
    "I will not go into too many details of this implementation here. If interested, I suggest looking at the source code and,\n",
    "especially, unit tests where I used examples straight from the original $\\partial$ILP paper $-$\n",
    "[Learning Explanatory Rules from Noisy Data](https://arxiv.org/abs/1711.04574).\n",
    "\n",
    "Prior to reading this you should be familiar with Inductive Logic Programming (ILP), which is succinctly explained in\n",
    "the original $\\partial$ILP paper."
   ]
  },
  {
   "cell_type": "markdown",
   "metadata": {
    "pycharm": {
     "name": "#%% md\n"
    }
   },
   "source": [
    "### $\\partial$ILP $-$ Differential Inductive Logic Programming Framework\n",
    "Briefly, in $\\partial$ILP all the non-differentiable work is done in advance, producing apparatus for numerical,\n",
    "differentiable forward chaining. Optimization algorithm is run where loss is evaluation of forward chaining results.\n",
    "Automatic differentiation is used to calculate the gradients. Forward chaining is adjusted by the weight matrices, and,\n",
    "in turn, these weights can be adjusted. In the end, results (predicate definitions) are extracted from the weight\n",
    "matrices.\n"
   ]
  },
  {
   "cell_type": "markdown",
   "metadata": {
    "pycharm": {
     "name": "#%% md\n"
    }
   },
   "source": [
    "To show how Lernd works, I will walk you through the simple problem of learning the \"predecessor\" relation. Lernd will\n",
    "learn it by using just a few examples and background facts.\n",
    "\n",
    "First the problem needs to expressed in ILP terms. We need to define a language frame and a program template.\n",
    "\n",
    "Formally, a language frame $\\mathcal{L}$ is a tuple $(target, P_e, arity_e, C)$, where $target$ is an intensional target\n",
    "predicate, $P_e$ is a set of extensional predicates, $arity_e$ is an arity map of predicates, $C$ is a set of constants.\n",
    "\n",
    "In Lernd `LanguageModel` corresponds to $\\mathcal{L}$. Here we define a language frame for the predecessor problem:\n",
    "* The $target$ is an intensional predicate we want to learn.\n",
    "* Constants are just natural numbers 0 to 9.\n",
    "* We have 2 extensional predicates, a monadic $zero$ predicate, and a successor relation - a dyadic predicate $succ$.\n",
    "\n",
    "We don't need to worry about $arity_e$ mapping, since arity is part of the predicate definition in this\n",
    "implementation."
   ]
  },
  {
   "cell_type": "code",
   "execution_count": 1,
   "metadata": {
    "pycharm": {
     "name": "#%%\n"
    }
   },
   "outputs": [],
   "source": [
    "import os\n",
    "\n",
    "import tensorflow as tf\n",
    "\n",
    "from lernd.classes import GroundAtoms, ILP, LanguageModel, MaybeGroundAtom, ProgramTemplate\n",
    "from lernd.lernd_loss import Lernd\n",
    "from lernd.lernd_types import Constant, RuleTemplate\n",
    "from lernd.main import generate_weight_matrices, extract_definitions, print_valuations\n",
    "from lernd.util import ground_atom2str, str2ground_atom, str2pred, get_ground_atom_probs\n",
    "\n",
    "os.environ['CUDA_VISIBLE_DEVICES'] = ''\n",
    "\n",
    "target_pred = str2pred('predecessor/2')\n",
    "zero_pred = str2pred('zero/1')\n",
    "succ_pred = str2pred('succ/2')\n",
    "preds_ext = [zero_pred, succ_pred]\n",
    "constants = [Constant(str(i)) for i in range(10)]\n",
    "language_model = LanguageModel(target_pred, preds_ext, constants)"
   ]
  },
  {
   "cell_type": "markdown",
   "metadata": {
    "pycharm": {
     "name": "#%% md\n"
    }
   },
   "source": [
    "Program template $\\Pi$ is a tuple $(P_a, arity_a, rules, T)$ where $P_a$ is a set of invented (auxiliary) intensional\n",
    "predicates, $rules$ - a map of predicate $p$ to a pair of rule templates $(\\tau_p^1, \\tau_p^2)$.\n",
    "\n",
    "Note that in cases where an intensional predicate $p$ is fully expressed in just one clause, rule template $\\tau_p^2$\n",
    "should be $null$ (more on this later).\n",
    "\n",
    "Rule template $\\tau$ is a tuple $(v, int)$, which describes the range of clauses that can be generated ($v$ - a number\n",
    "of existentially quantified variables allowed in the clause, $int \\in \\{0, 1\\}$ - whether intensional predicates are\n",
    "allowed).\n",
    "\n",
    "Program template is actually a hyperparameter, since it needs to be given in advance and is problem specific. It is\n",
    "possible to use iterative deepening (as per $\\partial$ILP paper), but this increases the amount of computation\n",
    "massively. Iterative deepening is currently not implemented in Lernd."
   ]
  },
  {
   "cell_type": "code",
   "execution_count": 2,
   "metadata": {
    "pycharm": {
     "name": "#%%\n"
    }
   },
   "outputs": [],
   "source": [
    "preds_aux = []\n",
    "rules = {target_pred: (RuleTemplate(0, False), None)}\n",
    "forward_chaining_steps = 1\n",
    "program_template = ProgramTemplate(preds_aux, rules, forward_chaining_steps)"
   ]
  },
  {
   "cell_type": "markdown",
   "metadata": {
    "pycharm": {
     "name": "#%% md\n"
    }
   },
   "source": [
    "Background axioms (ground atoms), positive and negative examples are also part of the ILP problem definition.\n",
    "\n",
    "Define background axioms - $zero(0)$ and $succ$ examples, as well as positive examples:"
   ]
  },
  {
   "cell_type": "code",
   "execution_count": 3,
   "metadata": {
    "pycharm": {
     "name": "#%%\n"
    }
   },
   "outputs": [
    {
     "name": "stdout",
     "output_type": "stream",
     "text": [
      "Background axioms:\n",
      "zero(0)\n",
      "succ(0,1)\n",
      "succ(1,2)\n",
      "succ(2,3)\n",
      "succ(3,4)\n",
      "succ(4,5)\n",
      "succ(5,6)\n",
      "succ(6,7)\n",
      "succ(7,8)\n",
      "succ(8,9)\n",
      "\n",
      "Positive examples:\n",
      "predecessor(1,0)\n",
      "predecessor(2,1)\n",
      "predecessor(3,2)\n",
      "predecessor(4,3)\n",
      "predecessor(5,4)\n",
      "predecessor(6,5)\n",
      "predecessor(7,6)\n",
      "predecessor(8,7)\n",
      "predecessor(9,8)\n"
     ]
    }
   ],
   "source": [
    "ground_zero = str2ground_atom('zero(0)')\n",
    "background_axioms = [ground_zero] + [str2ground_atom(f'succ({i},{i + 1})') for i in range(9)]\n",
    "positive_examples = [str2ground_atom(f'predecessor({i + 1},{i})') for i in range(9)]\n",
    "print('Background axioms:')\n",
    "print('\\n'.join(map(ground_atom2str, background_axioms)))\n",
    "print('\\nPositive examples:')\n",
    "print('\\n'.join(map(ground_atom2str, positive_examples)))"
   ]
  },
  {
   "cell_type": "markdown",
   "metadata": {
    "pycharm": {
     "name": "#%% md\n"
    }
   },
   "source": [
    "In this case, negative examples are all other $predecessor$ substitutions ($\\mathcal{P}$ being a set of positive\n",
    "examples):\n",
    "\n",
    "$\\mathcal{N} = \\{predecessor(X,Y) \\mid (X,Y) \\in \\{0,\\ldots,9\\}^2\\} - \\mathcal{P}$\n",
    "\n",
    "Here I take advantage of Lernd's `ground_atom_generator` to define it:"
   ]
  },
  {
   "cell_type": "code",
   "execution_count": 4,
   "metadata": {
    "pycharm": {
     "name": "#%%\n"
    }
   },
   "outputs": [
    {
     "name": "stdout",
     "output_type": "stream",
     "text": [
      "Negative examples:\n",
      "predecessor(0,0)\n",
      "predecessor(0,1)\n",
      "predecessor(0,2)\n",
      "predecessor(0,3)\n",
      "predecessor(0,4)\n",
      "predecessor(0,5)\n",
      "predecessor(0,6)\n",
      "predecessor(0,7)\n",
      "predecessor(0,8)\n",
      "predecessor(0,9)\n",
      "predecessor(1,1)\n",
      "predecessor(1,2)\n",
      "predecessor(1,3)\n",
      "predecessor(1,4)\n",
      "predecessor(1,5)\n",
      "predecessor(1,6)\n",
      "predecessor(1,7)\n",
      "predecessor(1,8)\n",
      "predecessor(1,9)\n",
      "predecessor(2,0)\n",
      "predecessor(2,2)\n",
      "predecessor(2,3)\n",
      "predecessor(2,4)\n",
      "predecessor(2,5)\n",
      "predecessor(2,6)\n",
      "predecessor(2,7)\n",
      "predecessor(2,8)\n",
      "predecessor(2,9)\n",
      "predecessor(3,0)\n",
      "predecessor(3,1)\n",
      "predecessor(3,3)\n",
      "predecessor(3,4)\n",
      "predecessor(3,5)\n",
      "predecessor(3,6)\n",
      "predecessor(3,7)\n",
      "predecessor(3,8)\n",
      "predecessor(3,9)\n",
      "predecessor(4,0)\n",
      "predecessor(4,1)\n",
      "predecessor(4,2)\n",
      "predecessor(4,4)\n",
      "predecessor(4,5)\n",
      "predecessor(4,6)\n",
      "predecessor(4,7)\n",
      "predecessor(4,8)\n",
      "predecessor(4,9)\n",
      "predecessor(5,0)\n",
      "predecessor(5,1)\n",
      "predecessor(5,2)\n",
      "predecessor(5,3)\n",
      "predecessor(5,5)\n",
      "predecessor(5,6)\n",
      "predecessor(5,7)\n",
      "predecessor(5,8)\n",
      "predecessor(5,9)\n",
      "predecessor(6,0)\n",
      "predecessor(6,1)\n",
      "predecessor(6,2)\n",
      "predecessor(6,3)\n",
      "predecessor(6,4)\n",
      "predecessor(6,6)\n",
      "predecessor(6,7)\n",
      "predecessor(6,8)\n",
      "predecessor(6,9)\n",
      "predecessor(7,0)\n",
      "predecessor(7,1)\n",
      "predecessor(7,2)\n",
      "predecessor(7,3)\n",
      "predecessor(7,4)\n",
      "predecessor(7,5)\n",
      "predecessor(7,7)\n",
      "predecessor(7,8)\n",
      "predecessor(7,9)\n",
      "predecessor(8,0)\n",
      "predecessor(8,1)\n",
      "predecessor(8,2)\n",
      "predecessor(8,3)\n",
      "predecessor(8,4)\n",
      "predecessor(8,5)\n",
      "predecessor(8,6)\n",
      "predecessor(8,8)\n",
      "predecessor(8,9)\n",
      "predecessor(9,0)\n",
      "predecessor(9,1)\n",
      "predecessor(9,2)\n",
      "predecessor(9,3)\n",
      "predecessor(9,4)\n",
      "predecessor(9,5)\n",
      "predecessor(9,6)\n",
      "predecessor(9,7)\n",
      "predecessor(9,9)\n"
     ]
    }
   ],
   "source": [
    "ground_atoms = GroundAtoms(language_model, program_template)\n",
    "negative_examples = []\n",
    "for ground_atom, _ in ground_atoms.ground_atom_generator(MaybeGroundAtom.from_pred(target_pred)):\n",
    "    if ground_atom not in positive_examples:\n",
    "        negative_examples.append(ground_atom)\n",
    "print('Negative examples:')\n",
    "print('\\n'.join(map(ground_atom2str, negative_examples)))"
   ]
  },
  {
   "cell_type": "markdown",
   "metadata": {
    "pycharm": {
     "name": "#%% md\n"
    }
   },
   "source": [
    "All of that together constitutes an ILP problem:"
   ]
  },
  {
   "cell_type": "code",
   "execution_count": 5,
   "metadata": {
    "pycharm": {
     "name": "#%%\n"
    }
   },
   "outputs": [],
   "source": [
    "ilp_problem = ILP(language_model, background_axioms, positive_examples, negative_examples)"
   ]
  },
  {
   "cell_type": "markdown",
   "metadata": {
    "pycharm": {
     "name": "#%% md\n"
    }
   },
   "source": [
    "Now we can initialize `Lernd`. On initialization it will perform all the non-differentiable operations, mainly the\n",
    "generation of $X_c$ tensors (one for each generated clause). These tensors hold indices of ground atoms that satisfy the\n",
    "clause, and thus enable forward chaining. For more details, see the paper."
   ]
  },
  {
   "cell_type": "code",
   "execution_count": 6,
   "metadata": {
    "pycharm": {
     "name": "#%%\n"
    }
   },
   "outputs": [
    {
     "name": "stdout",
     "output_type": "stream",
     "text": [
      "Generating clauses...\n",
      "Generating ground atoms...\n",
      "Making big lambda...\n",
      "Generating initial valuation...\n",
      "Initializing Inferrer\n",
      "Inferrer initializing xc tensors...\n"
     ]
    }
   ],
   "source": [
    "lernd_model = Lernd(ilp_problem, program_template)"
   ]
  },
  {
   "cell_type": "markdown",
   "metadata": {
    "pycharm": {
     "name": "#%% md\n"
    }
   },
   "source": [
    "Now we are ready to start the training. We initialize the weights.\n",
    "\n",
    "We are using `RMSProp` optimization as suggested in the paper. All other hyperparameter values are also taken from the\n",
    "paper. The only exceptions are the number of steps (100 here instead of 6000) and `clause_prob_threshold` (which is the\n",
    "probability needed for us to extract the clauses). If it does not reach the set 0.1, I extract clauses with max\n",
    "probability."
   ]
  },
  {
   "cell_type": "code",
   "execution_count": 7,
   "metadata": {
    "pycharm": {
     "name": "#%%\n"
    }
   },
   "outputs": [
    {
     "name": "stdout",
     "output_type": "stream",
     "text": [
      "WARNING:tensorflow:From /home/crunch/.conda/envs/lernd/lib/python3.7/site-packages/tensorflow/python/ops/array_grad.py:644: _EagerTensorBase.cpu (from tensorflow.python.framework.ops) is deprecated and will be removed in a future version.\n",
      "Instructions for updating:\n",
      "Use tf.identity instead.\n",
      "Step 10 loss: 0.002441584365442395\n",
      "\n",
      "Step 20 loss: 0.0008735893061384559\n",
      "\n",
      "Step 30 loss: 0.000420353258959949\n",
      "\n",
      "Step 40 loss: 0.0002241743786726147\n",
      "\n",
      "Step 50 loss: 0.00012535670248325914\n",
      "\n",
      "Step 60 loss: 7.185238064266741e-05\n",
      "\n",
      "Step 70 loss: 4.174029527348466e-05\n",
      "\n",
      "Step 80 loss: 2.4436507374048233e-05\n",
      "\n",
      "Step 90 loss: 1.4375813407241367e-05\n",
      "\n",
      "Step 100 loss: 8.478499694319908e-06\n",
      "\n",
      "Step 110 loss: 5.015251190343406e-06\n",
      "\n",
      "Step 120 loss: 2.9617956442962168e-06\n",
      "\n",
      "Step 130 loss: 1.7607358131499495e-06\n",
      "\n",
      "Step 140 loss: 1.0436824595672078e-06\n",
      "\n",
      "Step 150 loss: 6.306190130089817e-07\n",
      "\n",
      "Step 160 loss: 3.749138670627872e-07\n",
      "\n",
      "Step 170 loss: 2.2292158519121585e-07\n",
      "\n",
      "Step 180 loss: 1.4126310077244852e-07\n",
      "\n",
      "Step 190 loss: 9.17911862075016e-08\n",
      "\n",
      "Step 200 loss: 5.96046660916727e-08\n",
      "\n",
      "Step 210 loss: 3.3378604769040976e-08\n",
      "\n",
      "Step 220 loss: 2.2053722403825304e-08\n",
      "\n",
      "Step 230 loss: 2.1457676524505587e-08\n",
      "\n",
      "Step 240 loss: 1.0728836485895954e-08\n",
      "\n",
      "Step 250 loss: 1.0728836485895954e-08\n",
      "\n",
      "Step 260 loss: -0.0\n",
      "\n",
      "Step 270 loss: -0.0\n",
      "\n",
      "Step 280 loss: -0.0\n",
      "\n",
      "Step 290 loss: -0.0\n",
      "\n",
      "Step 300 loss: -0.0\n",
      "\n"
     ]
    }
   ],
   "source": [
    "weights = generate_weight_matrices(lernd_model.clauses)\n",
    "losses = []\n",
    "optimizer = tf.keras.optimizers.RMSprop(learning_rate=0.5)\n",
    "\n",
    "im = None\n",
    "for i in range(1, 301):\n",
    "    loss_grad, loss, valuation, _ = lernd_model.grad(weights)\n",
    "    optimizer.apply_gradients(zip(loss_grad, list(weights.values())))\n",
    "    loss_float = float(loss.numpy())\n",
    "    losses.append(loss_float)\n",
    "    if i % 10 == 0:\n",
    "        print(f'Step {i} loss: {loss_float}\\n')"
   ]
  },
  {
   "cell_type": "markdown",
   "metadata": {
    "pycharm": {
     "name": "#%% md\n"
    }
   },
   "source": [
    "Let's plot the loss to see how it went. Basically, this simple problem is solved in under 10 training steps, and if run\n",
    "for 300 steps, loss converges to exactly 0."
   ]
  },
  {
   "cell_type": "code",
   "execution_count": 8,
   "metadata": {
    "pycharm": {
     "name": "#%%\n"
    }
   },
   "outputs": [
    {
     "data": {
      "text/plain": [
       "Text(0, 0.5, 'Value')"
      ]
     },
     "execution_count": 8,
     "metadata": {},
     "output_type": "execute_result"
    },
    {
     "data": {
      "image/png": "[encoded data removed]",
      "text/plain": [
       "<Figure size 432x288 with 1 Axes>"
      ]
     },
     "metadata": {
      "needs_background": "light"
     },
     "output_type": "display_data"
    }
   ],
   "source": [
    "from matplotlib import pyplot as plt\n",
    "\n",
    "fig, ax = plt.subplots()\n",
    "ax.plot(losses)\n",
    "ax.set_title('Loss')\n",
    "ax.set_xlabel('Step')\n",
    "ax.set_ylabel('Value')"
   ]
  },
  {
   "cell_type": "markdown",
   "metadata": {
    "pycharm": {
     "name": "#%% md\n"
    }
   },
   "source": [
    "Finally let's extract the results:"
   ]
  },
  {
   "cell_type": "code",
   "execution_count": 9,
   "metadata": {
    "pycharm": {
     "name": "#%%\n"
    }
   },
   "outputs": [
    {
     "name": "stdout",
     "output_type": "stream",
     "text": [
      "clause_prob_threshold: 0.1\n",
      "\n",
      "Clause learnt:\n",
      "With probability (confidence): 1.0\n",
      "predecessor(A,B)<-succ(B,A), succ(B,A)\n",
      "\n",
      "Valuations of ground atoms (only those >0.01 for readability):\n",
      "zero(0) - 1.0\n",
      "succ(0,1) - 1.0\n",
      "succ(1,2) - 1.0\n",
      "succ(2,3) - 1.0\n",
      "succ(3,4) - 1.0\n",
      "succ(4,5) - 1.0\n",
      "succ(5,6) - 1.0\n",
      "succ(6,7) - 1.0\n",
      "succ(7,8) - 1.0\n",
      "succ(8,9) - 1.0\n",
      "predecessor(1,0) - 1.0\n",
      "predecessor(2,1) - 1.0\n",
      "predecessor(3,2) - 1.0\n",
      "predecessor(4,3) - 1.0\n",
      "predecessor(5,4) - 1.0\n",
      "predecessor(6,5) - 1.0\n",
      "predecessor(7,6) - 1.0\n",
      "predecessor(8,7) - 1.0\n",
      "predecessor(9,8) - 1.0\n"
     ]
    }
   ],
   "source": [
    "extract_definitions(lernd_model.clauses, weights)\n",
    "ground_atom_probs = get_ground_atom_probs(valuation, lernd_model.ground_atoms)\n",
    "print_valuations(ground_atom_probs)"
   ]
  },
  {
   "cell_type": "markdown",
   "metadata": {
    "pycharm": {
     "name": "#%% md\n"
    }
   },
   "source": [
    "Obviously, this is a simple problem with no noise in the data, so the next notebook (`even.ipynb`) will demonstrate how\n",
    "**Lernd** solves a more difficult problem."
   ]
  }
 ],
 "metadata": {
  "kernelspec": {
   "display_name": "Python 3",
   "language": "python",
   "name": "python3"
  },
  "language_info": {
   "codemirror_mode": {
    "name": "ipython",
    "version": 3
   },
   "file_extension": ".py",
   "mimetype": "text/x-python",
   "name": "python",
   "nbconvert_exporter": "python",
   "pygments_lexer": "ipython3",
   "version": "3.7.7"
  }
 },
 "nbformat": 4,
 "nbformat_minor": 1
}